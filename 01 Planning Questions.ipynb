{
 "cells": [
  {
   "cell_type": "markdown",
   "id": "d41119f3",
   "metadata": {},
   "source": [
    "# Questions\n",
    "\n",
    "1. Characterize the data and comment about its quality\n",
    "2. Explore and visualize the data e.g. a histogram of trip distance\n",
    "3. Find interesting trip statistics grouped by hour\n",
    "4. The taxi drivers want to know what kind of trip yields better tips. Can you build a model for them and explain the model?\n",
    "5. Pick one of the options below\n",
    "    - (Option 1) Find an anomaly in the data and explain your findings.\n",
    "    - (Option 2) Visualize the data to help understand trip patterns"
   ]
  },
  {
   "cell_type": "markdown",
   "id": "cefd0991",
   "metadata": {},
   "source": [
    "## 1. Characterize the data and comment about its quality\n",
    "- After downloading the data create some checks\n",
    "- Review the data dictionary to see of there are weird things about\n",
    "\n",
    "## 2. Explore and visualize the data e.g. a histogram of trip distance\n",
    "- Might combine some of the results from the checks in question 1 with this exploration\n",
    "- I somewhat group finding interesting stats grouped by hour under this umbrella as well\n",
    "- Make sure to visualize a histogram of tip distance\n",
    "\n",
    "## 3. Find interesting trip statistics grouped by hour\n",
    "- For now I will assume this means the start of the trip. However, some trips can laat longer than an hour\n",
    " \n",
    "## 4. The taxi drivers want to know what kind of trip yields better tips. Can you build a model for them and explain the model?\n",
    "- This is a very vague request, but maybe after interacting with the data some obvious patterns may show up\n",
    "- There are some leading questions that suggest they may be interested in \"Time of day\" as well as the length of the trips\n",
    "- In the model explanation I would be sure to include that it may be beneficial to come to an agreement on what \"better tips\" mean.\n",
    "    - Are we talking about just a higher tip?\n",
    "    - Should we take into consideration cost of drivers time?\n",
    "    - Longer trips may earn better tips, but a lower percentage of the entire trip cost.\n",
    "    - Suggestion: use \"tip rate\" to define better tips. You can also think of this as Percent of Trip Cost.\n",
    "        - tip/total cost of trip\n",
    "            - i.e. {'trip_total_cost': '40.00', 'tip': '8.00'}\n",
    "            - tip_rate = 8/40 = 0.20\n",
    "    - We can view all these tips on a distribution and either use explicit classification (informed by project management) or ML to generate insights. A really simple approach would be to split the distribution of tip_rates into quartiles (low, med, high, very high). These types of tip ranges can inform a classification model, maybe KNN, of what future trips might yeild. We have the option of harness testing these models to inform users of which trips yeild better tips through simulation OR we can simply use statistics (A/B tests) on the data provided to inform decision makers of the features that are most likely to impact tips.\n",
    "\n",
    "## 5. Pick one of the options below\n",
    "### Find an anomaly in the data and explain your findings.\n",
    "I think this may be the more likely option.\n",
    "### Visualize the data to help understand trip patterns"
   ]
  },
  {
   "cell_type": "code",
   "execution_count": null,
   "id": "b61052f7",
   "metadata": {},
   "outputs": [],
   "source": []
  }
 ],
 "metadata": {
  "kernelspec": {
   "display_name": "Python 3 (ipykernel)",
   "language": "python",
   "name": "python3"
  },
  "language_info": {
   "codemirror_mode": {
    "name": "ipython",
    "version": 3
   },
   "file_extension": ".py",
   "mimetype": "text/x-python",
   "name": "python",
   "nbconvert_exporter": "python",
   "pygments_lexer": "ipython3",
   "version": "3.9.10"
  }
 },
 "nbformat": 4,
 "nbformat_minor": 5
}
