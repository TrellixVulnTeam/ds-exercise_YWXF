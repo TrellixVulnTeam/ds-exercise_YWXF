{
 "cells": [
  {
   "cell_type": "code",
   "execution_count": null,
   "id": "97071bb5",
   "metadata": {},
   "outputs": [],
   "source": [
    "import pandas as pd\n",
    "import plotly.express as px"
   ]
  },
  {
   "cell_type": "markdown",
   "id": "68cfd6a0",
   "metadata": {},
   "source": [
    "# 1. Characterize the data and comment about its quality\n",
    "- When trying to download this data pipelines must be automated to handle empty columns on the end\n",
    "- The coded values match the data dictionary\n",
    "- There are some weird characteristics about this dataset, for example there are some Trip start times that are exactly the same as trip end time\n",
    "    - For some of these trips they have data that seems like a trip with a duration > 0 happened. (i.e. charges made to the trip"
   ]
  },
  {
   "cell_type": "markdown",
   "id": "1d2c86d3",
   "metadata": {},
   "source": [
    "# 2. Explore and visualize the data e.g. a histogram of trip distance"
   ]
  },
  {
   "cell_type": "code",
   "execution_count": null,
   "id": "9914df74",
   "metadata": {},
   "outputs": [],
   "source": []
  }
 ],
 "metadata": {
  "kernelspec": {
   "display_name": "Python 3 (ipykernel)",
   "language": "python",
   "name": "python3"
  },
  "language_info": {
   "codemirror_mode": {
    "name": "ipython",
    "version": 3
   },
   "file_extension": ".py",
   "mimetype": "text/x-python",
   "name": "python",
   "nbconvert_exporter": "python",
   "pygments_lexer": "ipython3",
   "version": "3.9.10"
  }
 },
 "nbformat": 4,
 "nbformat_minor": 5
}
